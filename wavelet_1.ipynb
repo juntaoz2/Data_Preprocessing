{
 "cells": [
  {
   "cell_type": "code",
   "execution_count": 1,
   "metadata": {},
   "outputs": [],
   "source": [
    "import pandas as pd\n",
    "import numpy as np\n",
    "import matplotlib.pyplot as plt\n",
    "from sklearn.preprocessing import MinMaxScaler\n",
    "import matplotlib.pyplot as plt\n",
    "import pandas as pd\n",
    "from sklearn.preprocessing import MinMaxScaler\n",
    "import pywt\n",
    "import statsmodels\n",
    "from statsmodels.tsa.stattools import adfuller\n",
    "from statsmodels.graphics.tsaplots import plot_acf\n",
    "from matplotlib import pyplot\n",
    "from statsmodels.graphics.tsaplots import plot_pacf\n",
    "from statsmodels.tsa.ar_model import AutoReg\n",
    "from sklearn.metrics import mean_squared_error\n",
    "from sklearn.metrics import mean_absolute_error"
   ]
  },
  {
   "cell_type": "code",
   "execution_count": 2,
   "metadata": {},
   "outputs": [],
   "source": [
    "data = pd.read_csv(\"/Users/juntao/Desktop/Data/Apple.csv\")"
   ]
  },
  {
   "cell_type": "code",
   "execution_count": 3,
   "metadata": {},
   "outputs": [
    {
     "data": {
      "text/html": [
       "<div>\n",
       "<style scoped>\n",
       "    .dataframe tbody tr th:only-of-type {\n",
       "        vertical-align: middle;\n",
       "    }\n",
       "\n",
       "    .dataframe tbody tr th {\n",
       "        vertical-align: top;\n",
       "    }\n",
       "\n",
       "    .dataframe thead th {\n",
       "        text-align: right;\n",
       "    }\n",
       "</style>\n",
       "<table border=\"1\" class=\"dataframe\">\n",
       "  <thead>\n",
       "    <tr style=\"text-align: right;\">\n",
       "      <th></th>\n",
       "      <th>PX_CLOSE</th>\n",
       "      <th>PX_LOW</th>\n",
       "      <th>PX_OPEN</th>\n",
       "      <th>PX_HIGH</th>\n",
       "    </tr>\n",
       "  </thead>\n",
       "  <tbody>\n",
       "    <tr>\n",
       "      <th>count</th>\n",
       "      <td>8081.000000</td>\n",
       "      <td>8081.000000</td>\n",
       "      <td>8081.000000</td>\n",
       "      <td>8081.000000</td>\n",
       "    </tr>\n",
       "    <tr>\n",
       "      <th>mean</th>\n",
       "      <td>17.090829</td>\n",
       "      <td>16.921073</td>\n",
       "      <td>17.103976</td>\n",
       "      <td>17.287317</td>\n",
       "    </tr>\n",
       "    <tr>\n",
       "      <th>std</th>\n",
       "      <td>31.512970</td>\n",
       "      <td>31.191687</td>\n",
       "      <td>31.536401</td>\n",
       "      <td>31.889259</td>\n",
       "    </tr>\n",
       "    <tr>\n",
       "      <th>min</th>\n",
       "      <td>0.116000</td>\n",
       "      <td>0.114000</td>\n",
       "      <td>0.115000</td>\n",
       "      <td>0.118000</td>\n",
       "    </tr>\n",
       "    <tr>\n",
       "      <th>25%</th>\n",
       "      <td>0.368000</td>\n",
       "      <td>0.359000</td>\n",
       "      <td>0.368000</td>\n",
       "      <td>0.375000</td>\n",
       "    </tr>\n",
       "    <tr>\n",
       "      <th>50%</th>\n",
       "      <td>2.185000</td>\n",
       "      <td>2.143000</td>\n",
       "      <td>2.185000</td>\n",
       "      <td>2.214000</td>\n",
       "    </tr>\n",
       "    <tr>\n",
       "      <th>75%</th>\n",
       "      <td>21.641000</td>\n",
       "      <td>21.455000</td>\n",
       "      <td>21.618000</td>\n",
       "      <td>21.796000</td>\n",
       "    </tr>\n",
       "    <tr>\n",
       "      <th>max</th>\n",
       "      <td>182.010000</td>\n",
       "      <td>179.120000</td>\n",
       "      <td>182.630000</td>\n",
       "      <td>182.940000</td>\n",
       "    </tr>\n",
       "  </tbody>\n",
       "</table>\n",
       "</div>"
      ],
      "text/plain": [
       "          PX_CLOSE       PX_LOW      PX_OPEN      PX_HIGH\n",
       "count  8081.000000  8081.000000  8081.000000  8081.000000\n",
       "mean     17.090829    16.921073    17.103976    17.287317\n",
       "std      31.512970    31.191687    31.536401    31.889259\n",
       "min       0.116000     0.114000     0.115000     0.118000\n",
       "25%       0.368000     0.359000     0.368000     0.375000\n",
       "50%       2.185000     2.143000     2.185000     2.214000\n",
       "75%      21.641000    21.455000    21.618000    21.796000\n",
       "max     182.010000   179.120000   182.630000   182.940000"
      ]
     },
     "execution_count": 3,
     "metadata": {},
     "output_type": "execute_result"
    }
   ],
   "source": [
    "data.describe()"
   ]
  },
  {
   "cell_type": "code",
   "execution_count": 4,
   "metadata": {},
   "outputs": [
    {
     "name": "stdout",
     "output_type": "stream",
     "text": [
      "<class 'pandas.core.frame.DataFrame'>\n",
      "RangeIndex: 8081 entries, 0 to 8080\n",
      "Data columns (total 5 columns):\n",
      " #   Column    Non-Null Count  Dtype  \n",
      "---  ------    --------------  -----  \n",
      " 0   Date      8081 non-null   object \n",
      " 1   PX_CLOSE  8081 non-null   float64\n",
      " 2   PX_LOW    8081 non-null   float64\n",
      " 3   PX_OPEN   8081 non-null   float64\n",
      " 4   PX_HIGH   8081 non-null   float64\n",
      "dtypes: float64(4), object(1)\n",
      "memory usage: 315.8+ KB\n"
     ]
    }
   ],
   "source": [
    "data.info()"
   ]
  },
  {
   "cell_type": "code",
   "execution_count": 5,
   "metadata": {},
   "outputs": [],
   "source": [
    "data['Date'] = pd.to_datetime(data.Date)\n",
    "data = data.sort_values('Date')\n",
    "data = data.set_index('Date')\n",
    "data = data.loc['2005-10-18':, :]  #DWT requires data length to be 2^n. n is 12 in this case"
   ]
  },
  {
   "cell_type": "code",
   "execution_count": 6,
   "metadata": {},
   "outputs": [
    {
     "data": {
      "text/plain": [
       "Text(0.5, 1.0, 'Apple Historical Close Price')"
      ]
     },
     "execution_count": 6,
     "metadata": {},
     "output_type": "execute_result"
    },
    {
     "data": {
      "image/png": "[encoded data removed]",
      "text/plain": [
       "<Figure size 1080x432 with 1 Axes>"
      ]
     },
     "metadata": {
      "needs_background": "light"
     },
     "output_type": "display_data"
    }
   ],
   "source": [
    "data['PX_CLOSE'].plot(figsize = (15,6))\n",
    "plt.title('Apple Historical Close Price')"
   ]
  },
  {
   "cell_type": "code",
   "execution_count": 7,
   "metadata": {},
   "outputs": [],
   "source": [
    "data['PX_CLOSE_return'] = data['PX_CLOSE'].pct_change()\n",
    "data['PX_LOW_return'] = data['PX_LOW'].pct_change()\n",
    "data['PX_OPEN_return'] = data['PX_OPEN'].pct_change()\n",
    "data['PX_HIGH_return'] = data['PX_HIGH'].pct_change()\n",
    "data['PX_CLOSE_return_sq'] = data['PX_CLOSE_return']**2"
   ]
  },
  {
   "cell_type": "code",
   "execution_count": 8,
   "metadata": {},
   "outputs": [
    {
     "name": "stdout",
     "output_type": "stream",
     "text": [
      "<class 'pandas.core.frame.DataFrame'>\n",
      "DatetimeIndex: 4096 entries, 2005-10-19 to 2022-01-26\n",
      "Data columns (total 5 columns):\n",
      " #   Column              Non-Null Count  Dtype  \n",
      "---  ------              --------------  -----  \n",
      " 0   PX_CLOSE_return     4096 non-null   float64\n",
      " 1   PX_LOW_return       4096 non-null   float64\n",
      " 2   PX_OPEN_return      4096 non-null   float64\n",
      " 3   PX_HIGH_return      4096 non-null   float64\n",
      " 4   PX_CLOSE_return_sq  4096 non-null   float64\n",
      "dtypes: float64(5)\n",
      "memory usage: 192.0 KB\n"
     ]
    }
   ],
   "source": [
    "df = data.loc[:, 'PX_CLOSE_return': 'PX_CLOSE_return_sq']\n",
    "df = df.dropna(axis = 0)\n",
    "df.info()"
   ]
  },
  {
   "cell_type": "code",
   "execution_count": 9,
   "metadata": {},
   "outputs": [
    {
     "data": {
      "text/plain": [
       "Text(0.5, 1.0, 'Apple Historical Close Return')"
      ]
     },
     "execution_count": 9,
     "metadata": {},
     "output_type": "execute_result"
    },
    {
     "data": {
      "image/png": "[encoded data removed]",
      "text/plain": [
       "<Figure size 1080x432 with 1 Axes>"
      ]
     },
     "metadata": {
      "needs_background": "light"
     },
     "output_type": "display_data"
    }
   ],
   "source": [
    "df['PX_CLOSE_return_sq'].plot(figsize = (15,6))\n",
    "plt.title('Apple Historical Close Return')"
   ]
  },
  {
   "cell_type": "markdown",
   "metadata": {},
   "source": [
    "Now we start considering the choice of wavelet. In general, it might be desirable to select a wavelet filter that satisfies one or more of the following properties:\n",
    "\n",
    "1. Symmetry: no phase shift\n",
    "\n",
    "2. Orthogonality: ensure that wavelet decomposition preserves variance of the original series\n",
    "\n",
    "3. Smoothness: number of continuous derivatives of the basis function\n",
    "\n",
    "4. Number of vanishing moments: the ability of the wavelet to account for the behavior of the signal."
   ]
  },
  {
   "cell_type": "markdown",
   "metadata": {},
   "source": [
    "Now, Let's take a look at the wavelet families!"
   ]
  },
  {
   "cell_type": "code",
   "execution_count": 10,
   "metadata": {},
   "outputs": [
    {
     "data": {
      "text/plain": [
       "['haar',\n",
       " 'db',\n",
       " 'sym',\n",
       " 'coif',\n",
       " 'bior',\n",
       " 'rbio',\n",
       " 'dmey',\n",
       " 'gaus',\n",
       " 'mexh',\n",
       " 'morl',\n",
       " 'cgau',\n",
       " 'shan',\n",
       " 'fbsp',\n",
       " 'cmor']"
      ]
     },
     "execution_count": 10,
     "metadata": {},
     "output_type": "execute_result"
    }
   ],
   "source": [
    "family = pywt.families(short=True)\n",
    "family"
   ]
  },
  {
   "cell_type": "code",
   "execution_count": 11,
   "metadata": {},
   "outputs": [],
   "source": [
    "w_filter = pywt.wavelist(kind = 'discrete')"
   ]
  },
  {
   "cell_type": "markdown",
   "metadata": {},
   "source": [
    "Since harr is the same as db1, we remove harr"
   ]
  },
  {
   "cell_type": "code",
   "execution_count": 12,
   "metadata": {},
   "outputs": [],
   "source": [
    "w_filter.remove('haar')"
   ]
  },
  {
   "cell_type": "code",
   "execution_count": 13,
   "metadata": {},
   "outputs": [
    {
     "name": "stdout",
     "output_type": "stream",
     "text": [
      "['bior1.1', 'bior1.3', 'bior1.5', 'bior2.2', 'bior2.4', 'bior2.6', 'bior2.8', 'bior3.1', 'bior3.3', 'bior3.5', 'bior3.7', 'bior3.9', 'bior4.4', 'bior5.5', 'bior6.8', 'coif1', 'coif2', 'coif3', 'coif4', 'coif5', 'coif6', 'coif7', 'coif8', 'coif9', 'coif10', 'coif11', 'coif12', 'coif13', 'coif14', 'coif15', 'coif16', 'coif17', 'db1', 'db2', 'db3', 'db4', 'db5', 'db6', 'db7', 'db8', 'db9', 'db10', 'db11', 'db12', 'db13', 'db14', 'db15', 'db16', 'db17', 'db18', 'db19', 'db20', 'db21', 'db22', 'db23', 'db24', 'db25', 'db26', 'db27', 'db28', 'db29', 'db30', 'db31', 'db32', 'db33', 'db34', 'db35', 'db36', 'db37', 'db38', 'dmey', 'rbio1.1', 'rbio1.3', 'rbio1.5', 'rbio2.2', 'rbio2.4', 'rbio2.6', 'rbio2.8', 'rbio3.1', 'rbio3.3', 'rbio3.5', 'rbio3.7', 'rbio3.9', 'rbio4.4', 'rbio5.5', 'rbio6.8', 'sym2', 'sym3', 'sym4', 'sym5', 'sym6', 'sym7', 'sym8', 'sym9', 'sym10', 'sym11', 'sym12', 'sym13', 'sym14', 'sym15', 'sym16', 'sym17', 'sym18', 'sym19', 'sym20'] 105\n"
     ]
    }
   ],
   "source": [
    "print(w_filter, len(w_filter))"
   ]
  },
  {
   "cell_type": "markdown",
   "metadata": {},
   "source": [
    "Start creating wavelet transformation function. There are a few steps:\n",
    "\n",
    "1. Destruct series using pywt.wavedec\n",
    "2. Denoising using soft thresholding\n",
    "3. reconstruct"
   ]
  },
  {
   "cell_type": "markdown",
   "metadata": {},
   "source": [
    "Note: the maximum level is 12 since 2**n = 4096, where n = 12. For convenience, we will simply use level = 4. We'll come back to this later. "
   ]
  },
  {
   "cell_type": "code",
   "execution_count": 14,
   "metadata": {},
   "outputs": [],
   "source": [
    "def wt(index_list, wavefunc, lv = 4, plot = True): \n",
    "\n",
    "    #Denoising\n",
    "    #soft Threshold Processing Method\n",
    "    coeff = pywt.wavedec(index_list, wavefunc, mode='sym',level=lv)  # Decomposing by levels，cD is the details coefficient\n",
    "    sgn = lambda x: 1 if x > 0 else -1 if x < 0 else 0\n",
    "    # Denoising\n",
    "    # Soft Threshold Processing Method\n",
    "    for i in range(1,lv + 1):  # Select m~n Levels of the wavelet coefficients，and no need to dispose the cA coefficients(approximation coefficients)\n",
    "        Tr = np.sqrt(2 * np.log2(len(coeff[i])))  # Compute Threshold using Stein's Unbiased Risk Estimate (SURE)\n",
    "        for j in range(len(coeff[i])): #denoise using soft-thresholding\n",
    "            if (abs(coeff[i][j]) > Tr) :\n",
    "                coeff[i][j] = sgn(coeff[i][j]) * (abs(coeff[i][j]) - Tr)  \n",
    "            else:\n",
    "                coeff[i][j] = 0  # Set to zero if smaller than threshold\n",
    "\n",
    "    # Reconstructing\n",
    "    c = pywt.waverec(coeff, wavefunc)\n",
    "    if len(c) > len(index_list):\n",
    "        c = c[:-1]\n",
    "\n",
    "    if plot:\n",
    "        data = pd.DataFrame({'CLOSE': index_list, 'denoised': c})\n",
    "        data.plot(figsize=(10, 10), subplots=(2, 1))\n",
    "        data.plot(figsize=(10, 5))\n",
    "        plt.show()\n",
    "    return c"
   ]
  },
  {
   "cell_type": "code",
   "execution_count": 15,
   "metadata": {},
   "outputs": [],
   "source": [
    "d_close = df['PX_CLOSE_return_sq'].tolist()"
   ]
  },
  {
   "cell_type": "code",
   "execution_count": 16,
   "metadata": {},
   "outputs": [
    {
     "name": "stdout",
     "output_type": "stream",
     "text": [
      "{'bior1.1': array([0.00076368, 0.00076368, 0.00076368, ..., 0.00022952, 0.00022952,\n",
      "       0.00022952]), 'bior1.3': array([0.00147896, 0.00147896, 0.00060792, ..., 0.00016346, 0.00016346,\n",
      "       0.00016346]), 'bior1.5': array([0.0010319 , 0.0010319 , 0.0010319 , ..., 0.00015611, 0.00015611,\n",
      "       0.00015611]), 'bior2.2': array([0.00108578, 0.00102401, 0.00096223, ..., 0.00012828, 0.00011713,\n",
      "       0.00010598]), 'bior2.4': array([0.00086085, 0.00085203, 0.00084321, ..., 0.0001155 , 0.00011134,\n",
      "       0.00010717]), 'bior2.6': array([0.00075091, 0.0007663 , 0.00078169, ..., 0.00016821, 0.00017229,\n",
      "       0.00017637]), 'bior2.8': array([0.00069618, 0.000711  , 0.00072583, ..., 0.00016386, 0.00016637,\n",
      "       0.00016888]), 'bior3.1': array([-0.00192607, -0.00134944, -0.00081788, ...,  0.00021556,\n",
      "        0.0002012 ,  0.00018715]), 'bior3.3': array([8.91423599e-04, 8.17965171e-04, 7.43697515e-04, ...,\n",
      "       9.88617418e-05, 9.49342574e-05, 9.29144197e-05]), 'bior3.5': array([0.00080596, 0.00078369, 0.00075881, ..., 0.00017978, 0.00018267,\n",
      "       0.00018609]), 'bior3.7': array([0.00076087, 0.00076   , 0.00075559, ..., 0.00019231, 0.00019556,\n",
      "       0.0001984 ]), 'bior3.9': array([0.00082032, 0.000813  , 0.00080218, ..., 0.00018085, 0.00018477,\n",
      "       0.00018834]), 'bior4.4': array([0.00086819, 0.00086008, 0.00085037, ..., 0.00012056, 0.00011796,\n",
      "       0.00011574]), 'bior5.5': array([0.00080708, 0.00080025, 0.0007922 , ..., 0.00014418, 0.00014721,\n",
      "       0.00015028]), 'bior6.8': array([0.00070545, 0.00072022, 0.0007339 , ..., 0.00015927, 0.00016073,\n",
      "       0.000163  ]), 'coif1': array([0.00106992, 0.00104706, 0.00102769, ..., 0.00014277, 0.00013452,\n",
      "       0.00012287]), 'coif2': array([0.00075293, 0.00076512, 0.00077657, ..., 0.00014561, 0.00014762,\n",
      "       0.00014838]), 'coif3': array([0.00081596, 0.00080031, 0.00078384, ..., 0.00017522, 0.00017374,\n",
      "       0.00017254]), 'coif4': array([0.00085929, 0.00083898, 0.00081617, ..., 0.00019508, 0.00019657,\n",
      "       0.00019713]), 'coif5': array([0.00091818, 0.00093184, 0.00093736, ..., 0.0001778 , 0.00018524,\n",
      "       0.00019249]), 'coif6': array([0.00082648, 0.00081891, 0.0008095 , ..., 0.00014452, 0.0001463 ,\n",
      "       0.0001489 ]), 'coif7': array([0.00087634, 0.00085596, 0.000832  , ..., 0.00016868, 0.00016867,\n",
      "       0.00016916]), 'coif8': array([0.0009131 , 0.00089961, 0.00088077, ..., 0.00015721, 0.00016437,\n",
      "       0.0001726 ]), 'coif9': array([0.00091579, 0.000928  , 0.00093304, ..., 0.00014571, 0.00015237,\n",
      "       0.00016004]), 'coif10': array([0.0008291 , 0.00082429, 0.0008171 , ..., 0.00015221, 0.00015679,\n",
      "       0.00016229]), 'coif11': array([0.00084819, 0.00083456, 0.00081784, ..., 0.00017124, 0.0001723 ,\n",
      "       0.0001738 ]), 'coif12': array([0.00092499, 0.00091532, 0.00089961, ..., 0.00018555, 0.0001897 ,\n",
      "       0.00019346]), 'coif13': array([0.00089936, 0.0009084 , 0.00091125, ..., 0.00017628, 0.00018494,\n",
      "       0.0001934 ]), 'coif14': array([0.00082827, 0.00082658, 0.00082216, ..., 0.00013344, 0.00013097,\n",
      "       0.00013001]), 'coif15': array([0.00078469, 0.00078083, 0.00077561, ..., 0.0001791 , 0.00017204,\n",
      "       0.00016487]), 'coif16': array([0.0009158 , 0.00090814, 0.00089476, ..., 0.00021008, 0.00021014,\n",
      "       0.00020859]), 'coif17': array([0.00089179, 0.00090135, 0.00090495, ..., 0.00018661, 0.00019393,\n",
      "       0.00020039]), 'db1': array([0.00076368, 0.00076368, 0.00076368, ..., 0.00022952, 0.00022952,\n",
      "       0.00022952]), 'db2': array([0.00127933, 0.00127872, 0.00111112, ..., 0.00012104, 0.00011161,\n",
      "       0.00010209]), 'db3': array([0.0009497 , 0.00091948, 0.00089093, ..., 0.00015911, 0.00015319,\n",
      "       0.00014505]), 'db4': array([0.00075614, 0.00075152, 0.00074612, ..., 0.0001351 , 0.00012972,\n",
      "       0.00012477]), 'db5': array([0.00077123, 0.00076455, 0.00075541, ..., 0.00015123, 0.00014547,\n",
      "       0.00013619]), 'db6': array([0.00083868, 0.00084929, 0.00085495, ..., 0.00012061, 0.00012001,\n",
      "       0.00011977]), 'db7': array([0.00083604, 0.00081366, 0.00079019, ..., 0.00013497, 0.0001283 ,\n",
      "       0.0001214 ]), 'db8': array([0.00092052, 0.00090083, 0.00087687, ..., 0.00016866, 0.00016784,\n",
      "       0.00016581]), 'db9': array([8.31602788e-04, 8.20122333e-04, 8.07467427e-04, ...,\n",
      "       8.90305011e-05, 8.43408570e-05, 8.08269015e-05]), 'db10': array([0.00079488, 0.00077895, 0.00076124, ..., 0.00014794, 0.00013935,\n",
      "       0.00013111]), 'db11': array([0.00098811, 0.00098959, 0.00098151, ..., 0.00011614, 0.00011382,\n",
      "       0.00011153]), 'db12': array([0.00079432, 0.00079719, 0.00079952, ..., 0.00012992, 0.00013241,\n",
      "       0.00013566]), 'db13': array([0.00094463, 0.00091858, 0.00088616, ..., 0.00013602, 0.00012527,\n",
      "       0.00011417]), 'db14': array([0.00090661, 0.00090522, 0.00089884, ..., 0.0001749 , 0.00017817,\n",
      "       0.00018007]), 'db15': array([8.43120601e-04, 8.28479109e-04, 8.11719479e-04, ...,\n",
      "       9.82668354e-05, 9.06688828e-05, 8.44577569e-05]), 'db16': array([0.00089218, 0.00087374, 0.00085086, ..., 0.00015293, 0.00015165,\n",
      "       0.0001506 ]), 'db17': array([0.0009086 , 0.0009048 , 0.00089579, ..., 0.00015108, 0.00015348,\n",
      "       0.00015532]), 'db18': array([0.00081685, 0.00081515, 0.00081087, ..., 0.00014238, 0.00014855,\n",
      "       0.00015546]), 'db19': array([0.00089514, 0.00087526, 0.00085077, ..., 0.00017288, 0.00016766,\n",
      "       0.00016189]), 'db20': array([0.00097269, 0.00098577, 0.00098944, ..., 0.0001638 , 0.00016951,\n",
      "       0.00017495]), 'db21': array([0.00080135, 0.00079411, 0.00078559, ..., 0.000143  , 0.00014598,\n",
      "       0.00014993]), 'db22': array([0.00094471, 0.00092572, 0.00090019, ..., 0.00016505, 0.00016699,\n",
      "       0.00016916]), 'db23': array([0.00088099, 0.00088363, 0.00088171, ..., 0.00018215, 0.00018887,\n",
      "       0.00019484]), 'db24': array([0.00082233, 0.00081322, 0.00080176, ..., 0.00015022, 0.00015358,\n",
      "       0.00015776]), 'db25': array([0.0008947 , 0.00088313, 0.00086672, ..., 0.00017838, 0.00017869,\n",
      "       0.00017878]), 'db26': array([0.00090027, 0.00090519, 0.00090432, ..., 0.00015884, 0.00016493,\n",
      "       0.00017117]), 'db27': array([0.00080496, 0.00080557, 0.00080367, ..., 0.00015324, 0.00015769,\n",
      "       0.0001629 ]), 'db28': array([0.00092211, 0.00090665, 0.00088563, ..., 0.00017577, 0.00017722,\n",
      "       0.00017847]), 'db29': array([0.00090771, 0.0009187 , 0.00092315, ..., 0.00016999, 0.00017724,\n",
      "       0.00018431]), 'db30': array([0.00081291, 0.0008037 , 0.00079263, ..., 0.000152  , 0.00015338,\n",
      "       0.00015558]), 'db31': array([0.00091955, 0.00090826, 0.0008913 , ..., 0.00017642, 0.0001792 ,\n",
      "       0.00018189]), 'db32': array([0.00086152, 0.00086609, 0.00086651, ..., 0.00017002, 0.00017689,\n",
      "       0.00018364]), 'db33': array([0.00081157, 0.00080957, 0.00080505, ..., 0.0001563 , 0.00015994,\n",
      "       0.00016439]), 'db34': array([0.00085193, 0.00084342, 0.00083165, ..., 0.00019185, 0.00019337,\n",
      "       0.0001942 ]), 'db35': array([0.00089321, 0.00090391, 0.00090841, ..., 0.0001661 , 0.00017315,\n",
      "       0.00018031]), 'db36': array([0.00080731, 0.0008065 , 0.00080333, ..., 0.00016426, 0.00016631,\n",
      "       0.00016889]), 'db37': array([0.00092814, 0.00091627, 0.0008984 , ..., 0.00018518, 0.0001882 ,\n",
      "       0.00019079]), 'db38': array([0.0008769 , 0.0008891 , 0.00089578, ..., 0.00017636, 0.00018444,\n",
      "       0.0001923 ]), 'dmey': array([0.00089276, 0.00088299, 0.00086693, ..., 0.0001941 , 0.00019416,\n",
      "       0.00019498]), 'rbio1.1': array([0.00076368, 0.00076368, 0.00076368, ..., 0.00022952, 0.00022952,\n",
      "       0.00022952]), 'rbio1.3': array([0.00132835, 0.00120175, 0.00101296, ..., 0.00016887, 0.00016376,\n",
      "       0.00015886]), 'rbio1.5': array([0.00088488, 0.00085112, 0.00081251, ..., 0.00012162, 0.00011551,\n",
      "       0.00011028]), 'rbio2.2': array([0.00105859, 0.00110431, 0.00119382, ..., 0.00016015, 0.00015268,\n",
      "       0.0001336 ]), 'rbio2.4': array([0.00085293, 0.00085445, 0.0008531 , ..., 0.00015554, 0.00014575,\n",
      "       0.00013805]), 'rbio2.6': array([0.00075958, 0.00076909, 0.00077811, ..., 0.00016507, 0.00017201,\n",
      "       0.00017702]), 'rbio2.8': array([0.00071722, 0.00073589, 0.00075297, ..., 0.00016236, 0.00016412,\n",
      "       0.00016683]), 'rbio3.1': array([ 0.00293872, -0.00125501, -0.00043516, ...,  0.00027605,\n",
      "        0.00021863,  0.00043446]), 'rbio3.3': array([0.00116761, 0.00120894, 0.00112427, ..., 0.0001632 , 0.00015977,\n",
      "       0.00011475]), 'rbio3.5': array([0.00084603, 0.00084992, 0.00083308, ..., 0.00015132, 0.00014173,\n",
      "       0.00014384]), 'rbio3.7': array([0.0007686 , 0.00075921, 0.00075075, ..., 0.00020654, 0.00019845,\n",
      "       0.00018512]), 'rbio3.9': array([0.00083325, 0.00082644, 0.00081593, ..., 0.00020425, 0.00020635,\n",
      "       0.00020659]), 'rbio4.4': array([0.00086939, 0.00086675, 0.00086113, ..., 0.00014263, 0.00013481,\n",
      "       0.00012821]), 'rbio5.5': array([0.00079931, 0.00080318, 0.00081018, ..., 0.00016451, 0.00016464,\n",
      "       0.00016466]), 'rbio6.8': array([0.00071471, 0.00072727, 0.00073847, ..., 0.00015627, 0.00015854,\n",
      "       0.00016186]), 'sym2': array([0.00127933, 0.00127872, 0.00111112, ..., 0.00012104, 0.00011161,\n",
      "       0.00010209]), 'sym3': array([0.0009497 , 0.00091948, 0.00089093, ..., 0.00015911, 0.00015319,\n",
      "       0.00014505]), 'sym4': array([0.00105948, 0.00102442, 0.00098899, ..., 0.0001443 , 0.00014183,\n",
      "       0.00014048]), 'sym5': array([0.0010224 , 0.00099828, 0.00096687, ..., 0.00016626, 0.00016289,\n",
      "       0.00015998]), 'sym6': array([0.00086342, 0.00084848, 0.00083246, ..., 0.0001579 , 0.00016217,\n",
      "       0.00016654]), 'sym7': array([0.00070332, 0.00070051, 0.00069681, ..., 0.00017736, 0.00017192,\n",
      "       0.00016662]), 'sym8': array([0.00075954, 0.00076615, 0.0007713 , ..., 0.00015532, 0.00015993,\n",
      "       0.00016523]), 'sym9': array([0.0007987 , 0.00080408, 0.0008053 , ..., 0.00016983, 0.00017616,\n",
      "       0.00018196]), 'sym10': array([0.00071667, 0.00072392, 0.00073012, ..., 0.00016113, 0.00016535,\n",
      "       0.00017053]), 'sym11': array([0.00090738, 0.00089865, 0.00088549, ..., 0.00018013, 0.00018642,\n",
      "       0.0001919 ]), 'sym12': array([0.00085733, 0.00083263, 0.00080632, ..., 0.00017368, 0.00017298,\n",
      "       0.00017262]), 'sym13': array([0.00086213, 0.00084926, 0.00083482, ..., 0.00014837, 0.00015274,\n",
      "       0.00015725]), 'sym14': array([0.00088531, 0.00085913, 0.00083061, ..., 0.00018508, 0.00018233,\n",
      "       0.0001791 ]), 'sym15': array([0.00083433, 0.00083078, 0.00082497, ..., 0.00014996, 0.00015529,\n",
      "       0.00016113]), 'sym16': array([0.00086649, 0.00085105, 0.00083192, ..., 0.00016959, 0.00017486,\n",
      "       0.00018068]), 'sym17': array([0.00077605, 0.00077191, 0.00076694, ..., 0.00015654, 0.00016422,\n",
      "       0.00017317]), 'sym18': array([0.000912  , 0.00091522, 0.00091169, ..., 0.00015355, 0.00016032,\n",
      "       0.00016785]), 'sym19': array([0.00082956, 0.00081865, 0.00080558, ..., 0.00015352, 0.00015944,\n",
      "       0.00016658]), 'sym20': array([0.00092546, 0.00093686, 0.00094095, ..., 0.00016485, 0.00017214,\n",
      "       0.00017957])}\n"
     ]
    }
   ],
   "source": [
    "res = {}\n",
    "for ele in w_filter:\n",
    "    res[ele] = wt(d_close, wavefunc = ele, plot = False)\n",
    "print(res)"
   ]
  },
  {
   "cell_type": "markdown",
   "metadata": {},
   "source": [
    "There are various way to measure the performance of the wavelet filter. For example, Signal-to-noise ratio (SNR), RMSE, correlation. We will start with SNR first. The function signaltonoise calculate SNR. Higher SNR shows a better performance."
   ]
  },
  {
   "cell_type": "code",
   "execution_count": 17,
   "metadata": {},
   "outputs": [],
   "source": [
    "#def signaltonoise(denoised, ori, axis=0, ddof=0):\n",
    "\n",
    "#    d = np.asarray(denoised)\n",
    "#    o = np.asarray(ori)\n",
    "#    numerator = sum(o**2)\n",
    "#    denominator = sum(abs(o-d))\n",
    "\n",
    "#   return 10*np.log10(numerator/denominator)"
   ]
  },
  {
   "cell_type": "code",
   "execution_count": 18,
   "metadata": {},
   "outputs": [],
   "source": [
    "#SNR = {}\n",
    "#for i in w_filter:\n",
    "#    SNR[i] = signaltonoise(denoised = res[i], ori = d_close)"
   ]
  },
  {
   "cell_type": "markdown",
   "metadata": {},
   "source": [
    "SNR"
   ]
  },
  {
   "cell_type": "markdown",
   "metadata": {},
   "source": [
    "Our SNR are negative, meaning signal power is less than noise power (more noise than signal). Now let's take a look at ARIMA model. "
   ]
  },
  {
   "cell_type": "markdown",
   "metadata": {},
   "source": [
    "First, I want to implement the Augmented Dickey-Fuller test to see if my Apple Historical Close Return is stationary. "
   ]
  },
  {
   "cell_type": "code",
   "execution_count": 19,
   "metadata": {},
   "outputs": [
    {
     "name": "stdout",
     "output_type": "stream",
     "text": [
      "ADF Statistic: -14.882821\n",
      "p-value: 0.000000\n",
      "Critical Values:\n",
      "\t1%: -3.432\n",
      "\t5%: -2.862\n",
      "\t10%: -2.567\n"
     ]
    }
   ],
   "source": [
    "result = adfuller(df['PX_CLOSE_return'])\n",
    "print('ADF Statistic: %f' % result[0])\n",
    "print('p-value: %f' % result[1])\n",
    "print('Critical Values:')\n",
    "for key, value in result[4].items():\n",
    "    print('\\t%s: %.3f' % (key, value))"
   ]
  },
  {
   "cell_type": "markdown",
   "metadata": {},
   "source": [
    "The ADF test shows that the dataset is stationary. Now I want to see the ACF and PACF plot"
   ]
  },
  {
   "cell_type": "code",
   "execution_count": 20,
   "metadata": {},
   "outputs": [
    {
     "data": {
      "image/png": "[encoded data removed]",
      "text/plain": [
       "<Figure size 432x288 with 1 Axes>"
      ]
     },
     "metadata": {
      "needs_background": "light"
     },
     "output_type": "display_data"
    }
   ],
   "source": [
    "#plot_acf(df['PX_CLOSE_return'])\n",
    "plot_acf(df['PX_CLOSE_return_sq'])\n",
    "pyplot.show()"
   ]
  },
  {
   "cell_type": "code",
   "execution_count": 21,
   "metadata": {},
   "outputs": [
    {
     "data": {
      "image/png": "[encoded data removed]",
      "text/plain": [
       "<Figure size 432x288 with 1 Axes>"
      ]
     },
     "metadata": {
      "needs_background": "light"
     },
     "output_type": "display_data"
    }
   ],
   "source": [
    "#plot_pacf(df['PX_CLOSE_return'], lags=20)\n",
    "plot_pacf(df['PX_CLOSE_return_sq'], lags=20)\n",
    "pyplot.show()"
   ]
  },
  {
   "cell_type": "markdown",
   "metadata": {},
   "source": [
    "We see a gradual decrease in the ACF chart and a sharp decrease after 10 significant lags. Therefore, AR process might be more appropriate. Therefore, I want to try out AR(10). "
   ]
  },
  {
   "cell_type": "code",
   "execution_count": 22,
   "metadata": {},
   "outputs": [
    {
     "name": "stderr",
     "output_type": "stream",
     "text": [
      "/Users/juntao/opt/anaconda3/lib/python3.8/site-packages/statsmodels/tsa/base/tsa_model.py:216: ValueWarning: A date index has been provided, but it has no associated frequency information and so will be ignored when e.g. forecasting.\n",
      "  warnings.warn('A date index has been provided, but it has no'\n",
      "/Users/juntao/opt/anaconda3/lib/python3.8/site-packages/statsmodels/tsa/base/tsa_model.py:580: ValueWarning: No supported index is available. Prediction results will be given with an integer index beginning at `start`.\n",
      "  warnings.warn('No supported index is available.'\n"
     ]
    }
   ],
   "source": [
    "AR_10 = AutoReg(df['PX_CLOSE_return_sq'], lags = 10).fit()\n",
    "pred = AR_10.predict(start = len(df['PX_CLOSE_return_sq']), end = len(df['PX_CLOSE_return_sq'])+5)"
   ]
  },
  {
   "cell_type": "markdown",
   "metadata": {},
   "source": [
    "Now, let me import test data"
   ]
  },
  {
   "cell_type": "code",
   "execution_count": 23,
   "metadata": {},
   "outputs": [
    {
     "data": {
      "text/html": [
       "<div>\n",
       "<style scoped>\n",
       "    .dataframe tbody tr th:only-of-type {\n",
       "        vertical-align: middle;\n",
       "    }\n",
       "\n",
       "    .dataframe tbody tr th {\n",
       "        vertical-align: top;\n",
       "    }\n",
       "\n",
       "    .dataframe thead th {\n",
       "        text-align: right;\n",
       "    }\n",
       "</style>\n",
       "<table border=\"1\" class=\"dataframe\">\n",
       "  <thead>\n",
       "    <tr style=\"text-align: right;\">\n",
       "      <th></th>\n",
       "      <th>PX_OPEN</th>\n",
       "      <th>PX_HIGH</th>\n",
       "      <th>PX_LOW</th>\n",
       "      <th>PX_CLOSE</th>\n",
       "    </tr>\n",
       "  </thead>\n",
       "  <tbody>\n",
       "    <tr>\n",
       "      <th>count</th>\n",
       "      <td>18.000000</td>\n",
       "      <td>18.000000</td>\n",
       "      <td>18.000000</td>\n",
       "      <td>18.000000</td>\n",
       "    </tr>\n",
       "    <tr>\n",
       "      <th>mean</th>\n",
       "      <td>170.826944</td>\n",
       "      <td>172.637000</td>\n",
       "      <td>168.624444</td>\n",
       "      <td>170.342778</td>\n",
       "    </tr>\n",
       "    <tr>\n",
       "      <th>std</th>\n",
       "      <td>3.831588</td>\n",
       "      <td>3.718311</td>\n",
       "      <td>4.771675</td>\n",
       "      <td>5.455366</td>\n",
       "    </tr>\n",
       "    <tr>\n",
       "      <th>min</th>\n",
       "      <td>162.450000</td>\n",
       "      <td>163.840000</td>\n",
       "      <td>157.820000</td>\n",
       "      <td>159.220000</td>\n",
       "    </tr>\n",
       "    <tr>\n",
       "      <th>25%</th>\n",
       "      <td>169.905000</td>\n",
       "      <td>170.883250</td>\n",
       "      <td>166.930000</td>\n",
       "      <td>168.880000</td>\n",
       "    </tr>\n",
       "    <tr>\n",
       "      <th>50%</th>\n",
       "      <td>171.705000</td>\n",
       "      <td>173.643000</td>\n",
       "      <td>170.150000</td>\n",
       "      <td>172.255000</td>\n",
       "    </tr>\n",
       "    <tr>\n",
       "      <th>75%</th>\n",
       "      <td>173.722500</td>\n",
       "      <td>175.262500</td>\n",
       "      <td>171.520000</td>\n",
       "      <td>174.182500</td>\n",
       "    </tr>\n",
       "    <tr>\n",
       "      <th>max</th>\n",
       "      <td>176.050000</td>\n",
       "      <td>176.650000</td>\n",
       "      <td>174.900000</td>\n",
       "      <td>176.280000</td>\n",
       "    </tr>\n",
       "  </tbody>\n",
       "</table>\n",
       "</div>"
      ],
      "text/plain": [
       "          PX_OPEN     PX_HIGH      PX_LOW    PX_CLOSE\n",
       "count   18.000000   18.000000   18.000000   18.000000\n",
       "mean   170.826944  172.637000  168.624444  170.342778\n",
       "std      3.831588    3.718311    4.771675    5.455366\n",
       "min    162.450000  163.840000  157.820000  159.220000\n",
       "25%    169.905000  170.883250  166.930000  168.880000\n",
       "50%    171.705000  173.643000  170.150000  172.255000\n",
       "75%    173.722500  175.262500  171.520000  174.182500\n",
       "max    176.050000  176.650000  174.900000  176.280000"
      ]
     },
     "execution_count": 23,
     "metadata": {},
     "output_type": "execute_result"
    }
   ],
   "source": [
    "test = pd.read_csv(\"/Users/juntao/Desktop/Data/AAPL_test.csv\")\n",
    "test.describe()"
   ]
  },
  {
   "cell_type": "code",
   "execution_count": 24,
   "metadata": {},
   "outputs": [
    {
     "name": "stdout",
     "output_type": "stream",
     "text": [
      "      PX_OPEN  PX_HIGH  PX_LOW  PX_CLOSE\n",
      "4095  163.500  164.389  157.82    159.78\n",
      "4096  162.450  163.840  158.28    159.69\n",
      "4097  165.710  170.350  162.80    159.22\n",
      "4098  170.160  175.000  169.51    170.33\n",
      "4099  174.010  174.840  172.31    174.78\n",
      "4100  174.745  175.880  173.33    174.61\n",
      "4101  174.480  176.240  172.12    175.84\n",
      "4102  171.680  174.100  170.68    172.90\n",
      "4103  172.860  173.946  170.95    172.39\n",
      "4104  171.730  175.350  171.43    171.66\n",
      "4105  176.050  176.650  174.90    174.83\n",
      "4106  174.140  175.480  171.55    176.28\n",
      "4107  172.330  173.080  168.04    172.12\n",
      "4108  167.370  169.580  166.56    168.64\n",
      "4109  170.970  172.950  170.25    168.88\n",
      "4110  171.850  173.340  170.05    172.79\n",
      "4111  171.030  171.910  168.47    172.55\n",
      "4112  169.820  170.541  166.19    168.88\n"
     ]
    }
   ],
   "source": [
    "test['Date'] = pd.to_datetime(test.Date)\n",
    "test = test.sort_values('Date')\n",
    "test = test.drop(['Date'], axis = 1)\n",
    "test = test.set_index(pd.Index([i for i in range(4095, 4113)])) #note, we adjust something like this because the returns of my traing data starts with 0. \n",
    "print(test)"
   ]
  },
  {
   "cell_type": "code",
   "execution_count": 25,
   "metadata": {},
   "outputs": [],
   "source": [
    "test['PX_CLOSE_return'] = test['PX_CLOSE'].pct_change()\n",
    "test['PX_LOW_return'] = test['PX_LOW'].pct_change()\n",
    "test['PX_OPEN_return'] = test['PX_OPEN'].pct_change()\n",
    "test['PX_HIGH_return'] = test['PX_HIGH'].pct_change()\n",
    "test['PX_CLOSE_return_sq'] = test['PX_CLOSE_return']**2\n",
    "df_test = test.loc[:, 'PX_CLOSE_return': 'PX_CLOSE_return_sq']\n",
    "df_test = df_test.dropna(axis = 0)"
   ]
  },
  {
   "cell_type": "code",
   "execution_count": 26,
   "metadata": {},
   "outputs": [
    {
     "data": {
      "text/html": [
       "<div>\n",
       "<style scoped>\n",
       "    .dataframe tbody tr th:only-of-type {\n",
       "        vertical-align: middle;\n",
       "    }\n",
       "\n",
       "    .dataframe tbody tr th {\n",
       "        vertical-align: top;\n",
       "    }\n",
       "\n",
       "    .dataframe thead th {\n",
       "        text-align: right;\n",
       "    }\n",
       "</style>\n",
       "<table border=\"1\" class=\"dataframe\">\n",
       "  <thead>\n",
       "    <tr style=\"text-align: right;\">\n",
       "      <th></th>\n",
       "      <th>PX_CLOSE_return</th>\n",
       "      <th>PX_LOW_return</th>\n",
       "      <th>PX_OPEN_return</th>\n",
       "      <th>PX_HIGH_return</th>\n",
       "      <th>PX_CLOSE_return_sq</th>\n",
       "    </tr>\n",
       "  </thead>\n",
       "  <tbody>\n",
       "    <tr>\n",
       "      <th>4096</th>\n",
       "      <td>-0.000563</td>\n",
       "      <td>0.002915</td>\n",
       "      <td>-0.006422</td>\n",
       "      <td>-0.003340</td>\n",
       "      <td>3.172782e-07</td>\n",
       "    </tr>\n",
       "    <tr>\n",
       "      <th>4097</th>\n",
       "      <td>-0.002943</td>\n",
       "      <td>0.028557</td>\n",
       "      <td>0.020068</td>\n",
       "      <td>0.039734</td>\n",
       "      <td>8.662441e-06</td>\n",
       "    </tr>\n",
       "    <tr>\n",
       "      <th>4098</th>\n",
       "      <td>0.069778</td>\n",
       "      <td>0.041216</td>\n",
       "      <td>0.026854</td>\n",
       "      <td>0.027297</td>\n",
       "      <td>4.868923e-03</td>\n",
       "    </tr>\n",
       "    <tr>\n",
       "      <th>4099</th>\n",
       "      <td>0.026126</td>\n",
       "      <td>0.016518</td>\n",
       "      <td>0.022626</td>\n",
       "      <td>-0.000914</td>\n",
       "      <td>6.825551e-04</td>\n",
       "    </tr>\n",
       "    <tr>\n",
       "      <th>4100</th>\n",
       "      <td>-0.000973</td>\n",
       "      <td>0.005920</td>\n",
       "      <td>0.004224</td>\n",
       "      <td>0.005948</td>\n",
       "      <td>9.460506e-07</td>\n",
       "    </tr>\n",
       "  </tbody>\n",
       "</table>\n",
       "</div>"
      ],
      "text/plain": [
       "      PX_CLOSE_return  PX_LOW_return  PX_OPEN_return  PX_HIGH_return  \\\n",
       "4096        -0.000563       0.002915       -0.006422       -0.003340   \n",
       "4097        -0.002943       0.028557        0.020068        0.039734   \n",
       "4098         0.069778       0.041216        0.026854        0.027297   \n",
       "4099         0.026126       0.016518        0.022626       -0.000914   \n",
       "4100        -0.000973       0.005920        0.004224        0.005948   \n",
       "\n",
       "      PX_CLOSE_return_sq  \n",
       "4096        3.172782e-07  \n",
       "4097        8.662441e-06  \n",
       "4098        4.868923e-03  \n",
       "4099        6.825551e-04  \n",
       "4100        9.460506e-07  "
      ]
     },
     "execution_count": 26,
     "metadata": {},
     "output_type": "execute_result"
    }
   ],
   "source": [
    "df_test.head()"
   ]
  },
  {
   "cell_type": "code",
   "execution_count": 27,
   "metadata": {},
   "outputs": [
    {
     "data": {
      "text/plain": [
       "[<matplotlib.lines.Line2D at 0x7fcd2c637d30>]"
      ]
     },
     "execution_count": 27,
     "metadata": {},
     "output_type": "execute_result"
    },
    {
     "data": {
      "image/png": "[encoded data removed]",
      "text/plain": [
       "<Figure size 432x288 with 1 Axes>"
      ]
     },
     "metadata": {
      "needs_background": "light"
     },
     "output_type": "display_data"
    }
   ],
   "source": [
    "pyplot.plot(pred)\n",
    "pyplot.plot(df_test['PX_CLOSE_return_sq'][:6], color='red')"
   ]
  },
  {
   "cell_type": "code",
   "execution_count": 28,
   "metadata": {},
   "outputs": [],
   "source": [
    "mse = mean_squared_error(df_test['PX_CLOSE_return_sq'][:6], pred)\n",
    "rmse = np.sqrt(mse)\n",
    "mae = mean_absolute_error(df_test['PX_CLOSE_return_sq'][:6], pred)"
   ]
  },
  {
   "cell_type": "code",
   "execution_count": 29,
   "metadata": {},
   "outputs": [
    {
     "name": "stdout",
     "output_type": "stream",
     "text": [
      "RMSE: 0.001888807977576968\n",
      "MSE: 3.5675955761583964e-06\n",
      "MAE: 0.0010126896178066034\n"
     ]
    }
   ],
   "source": [
    "print('RMSE:', rmse)\n",
    "print('MSE:', mse)\n",
    "print('MAE:', mae)"
   ]
  },
  {
   "cell_type": "markdown",
   "metadata": {},
   "source": [
    "We have seen the RMSE, MAE, and MSE without wavelet filter. Now we want to see if wavelet filter can improve the performance. "
   ]
  },
  {
   "cell_type": "code",
   "execution_count": 30,
   "metadata": {},
   "outputs": [],
   "source": [
    "pred_filter = {}\n",
    "metrics = pd.DataFrame(columns = ['RMSE', 'MSE', 'MAE'], index = list(res.keys()))"
   ]
  },
  {
   "cell_type": "code",
   "execution_count": 31,
   "metadata": {},
   "outputs": [],
   "source": [
    "for k,v in res.items():\n",
    "    ar = AutoReg(v, lags = 10).fit()\n",
    "    pred_filter[k] = ar.predict(start = len(v), end = len(v)+5)\n",
    "    \n",
    "    mse = mean_squared_error(df_test['PX_CLOSE_return_sq'][:6], pred_filter[k])\n",
    "    metrics.loc[k, 'MSE'] = mse\n",
    "    metrics.loc[k, 'RMSE'] = np.sqrt(mse)\n",
    "    metrics.loc[k, 'MAE'] = mean_absolute_error(df_test['PX_CLOSE_return_sq'][:6], pred)"
   ]
  },
  {
   "cell_type": "code",
   "execution_count": 32,
   "metadata": {},
   "outputs": [
    {
     "name": "stdout",
     "output_type": "stream",
     "text": [
      "               RMSE          MSE         MAE\n",
      "bior1.1  0.00190324  3.62233e-06  0.00101269\n",
      "bior1.3  0.00192364  3.70039e-06  0.00101269\n",
      "bior1.5  0.00192648  3.71133e-06  0.00101269\n",
      "bior2.2  0.00196797  3.87292e-06  0.00101269\n",
      "bior2.4   0.0019588  3.83688e-06  0.00101269\n",
      "...             ...          ...         ...\n",
      "sym16     0.0019221  3.69449e-06  0.00101269\n",
      "sym17    0.00192047  3.68822e-06  0.00101269\n",
      "sym18     0.0019248  3.70485e-06  0.00101269\n",
      "sym19    0.00192488  3.70516e-06  0.00101269\n",
      "sym20      0.001922  3.69408e-06  0.00101269\n",
      "\n",
      "[105 rows x 3 columns]\n"
     ]
    }
   ],
   "source": [
    "print(metrics)"
   ]
  },
  {
   "cell_type": "code",
   "execution_count": 33,
   "metadata": {},
   "outputs": [
    {
     "name": "stdout",
     "output_type": "stream",
     "text": [
      "RMSE    0.001892\n",
      "MSE     0.000004\n",
      "MAE     0.001013\n",
      "dtype: float64\n"
     ]
    }
   ],
   "source": [
    "mini = metrics.min()\n",
    "print(mini)"
   ]
  },
  {
   "cell_type": "code",
   "execution_count": 34,
   "metadata": {},
   "outputs": [
    {
     "ename": "SyntaxError",
     "evalue": "'break' outside loop (<ipython-input-34-6aaf1f276005>, line 1)",
     "output_type": "error",
     "traceback": [
      "\u001b[0;36m  File \u001b[0;32m\"<ipython-input-34-6aaf1f276005>\"\u001b[0;36m, line \u001b[0;32m1\u001b[0m\n\u001b[0;31m    break\u001b[0m\n\u001b[0m    ^\u001b[0m\n\u001b[0;31mSyntaxError\u001b[0m\u001b[0;31m:\u001b[0m 'break' outside loop\n"
     ]
    }
   ],
   "source": [
    "break"
   ]
  },
  {
   "cell_type": "code",
   "execution_count": null,
   "metadata": {},
   "outputs": [],
   "source": [
    "#wavelet = pywt.Wavelet('gaus1')\n",
    "#print(wavelet)"
   ]
  },
  {
   "cell_type": "code",
   "execution_count": null,
   "metadata": {},
   "outputs": [],
   "source": [
    "#print(data.loc[:, 'PX_CLOSE_return':].describe())\n",
    "\n",
    "#d = data['PX_CLOSE'].tolist()\n",
    "\n",
    "#start plotting\n",
    "#plt.plot(d, 'b')\n",
    "#plt.title('Historical Apple Stock Price')\n",
    "#plt.xlabel('time')\n",
    "#plt.ylabel('stock price')\n",
    "#plt.show()\n",
    "\n",
    "\n",
    "#coe = wt(d, plot = True)"
   ]
  },
  {
   "cell_type": "code",
   "execution_count": null,
   "metadata": {},
   "outputs": [],
   "source": []
  }
 ],
 "metadata": {
  "kernelspec": {
   "display_name": "Python 3",
   "language": "python",
   "name": "python3"
  },
  "language_info": {
   "codemirror_mode": {
    "name": "ipython",
    "version": 3
   },
   "file_extension": ".py",
   "mimetype": "text/x-python",
   "name": "python",
   "nbconvert_exporter": "python",
   "pygments_lexer": "ipython3",
   "version": "3.8.3"
  }
 },
 "nbformat": 4,
 "nbformat_minor": 4
}
